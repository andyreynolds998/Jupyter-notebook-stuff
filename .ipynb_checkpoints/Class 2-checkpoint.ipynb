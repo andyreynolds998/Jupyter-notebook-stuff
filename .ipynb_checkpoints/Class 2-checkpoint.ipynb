{
 "cells": [
  {
   "cell_type": "code",
   "execution_count": 1,
   "id": "8584c806",
   "metadata": {},
   "outputs": [],
   "source": [
    "class Stack:\n",
    "    def __init__(self):\n",
    "        self.items = []\n",
    "        \n",
    "    def is_empty(self):\n",
    "        return self.items == []\n",
    "    \n",
    "    def push(self,item):\n",
    "        self.items.append(item)\n",
    "        \n",
    "    def pop(self):\n",
    "        return len(self.items)\n",
    "    \n",
    "    def peek(self):\n",
    "        return self.items[len(self.items)-1]\n",
    "    \n",
    "    def size(self):\n",
    "        return len(self.items)"
   ]
  },
  {
   "cell_type": "code",
   "execution_count": null,
   "id": "7501d14d",
   "metadata": {},
   "outputs": [],
   "source": [
    "def reverse_str(s):\n",
    "    out = \"\"\n",
    "    stack = Stack()\n",
    "    for letter in s:\n",
    "        stack.push(letter)\n",
    "    while not stack.is_empty()\n",
    "        out += stack.pop\n",
    "    return out"
   ]
  },
  {
   "cell_type": "code",
   "execution_count": 7,
   "id": "427ac649",
   "metadata": {},
   "outputs": [],
   "source": [
    "def pallindrome(string):\n",
    "    string = string.lower()\n",
    "    reverse_str = string[::-1]\n",
    "    return string == reverse_str"
   ]
  },
  {
   "cell_type": "code",
   "execution_count": 9,
   "id": "f17ba372",
   "metadata": {},
   "outputs": [
    {
     "data": {
      "text/plain": [
       "True"
      ]
     },
     "execution_count": 9,
     "metadata": {},
     "output_type": "execute_result"
    }
   ],
   "source": [
    "pallindrome('racecar')"
   ]
  },
  {
   "cell_type": "code",
   "execution_count": null,
   "id": "81c6e751",
   "metadata": {},
   "outputs": [],
   "source": [
    "def pallindrome2(string):\n",
    "    string = string.lower()\n",
    "    return string == reverse_str(string)"
   ]
  },
  {
   "cell_type": "code",
   "execution_count": null,
   "id": "003638fa",
   "metadata": {},
   "outputs": [],
   "source": [
    "# problem 3\n",
    "### using our stack class implement a back button so that the stack returns the last visited url when the user requests it.\n",
    "\n",
    "#### first, well load 10 urls into the stack(to mock the data) then we'll prompt our users, asking them if \n",
    "#### they'd like the last visited url"
   ]
  },
  {
   "cell_type": "code",
   "execution_count": null,
   "id": "5f551b3e",
   "metadata": {},
   "outputs": [],
   "source": [
    "urls = ['www.google.com', 'twitter.com', \n",
    "'facebook.com', 'duckduckgo.com', \n",
    "'sdgku.edu', 'something.com', \n",
    "'example.com', 'mywebpage.com',\n",
    "'gmail.com', 'hotmail.com']"
   ]
  },
  {
   "cell_type": "code",
   "execution_count": 11,
   "id": "63aa0106",
   "metadata": {},
   "outputs": [],
   "source": [
    "def back_button(urls):\n",
    "    stack = Stack()\n",
    "    for url in urls:\n",
    "        stack.push(url)\n",
    "    user_input = input('Do you want to return the last url?')\n",
    "    if user_input == 'yes' and not stack.is_empty():\n",
    "        print('last url: %s' % stack.pop())\n",
    "    else:\n",
    "        return"
   ]
  },
  {
   "cell_type": "code",
   "execution_count": null,
   "id": "d8734220",
   "metadata": {},
   "outputs": [],
   "source": []
  }
 ],
 "metadata": {
  "kernelspec": {
   "display_name": "Python 3 (ipykernel)",
   "language": "python",
   "name": "python3"
  },
  "language_info": {
   "codemirror_mode": {
    "name": "ipython",
    "version": 3
   },
   "file_extension": ".py",
   "mimetype": "text/x-python",
   "name": "python",
   "nbconvert_exporter": "python",
   "pygments_lexer": "ipython3",
   "version": "3.8.10"
  }
 },
 "nbformat": 4,
 "nbformat_minor": 5
}
